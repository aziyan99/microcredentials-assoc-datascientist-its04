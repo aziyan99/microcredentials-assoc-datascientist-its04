{
 "cells": [
  {
   "cell_type": "code",
   "execution_count": 1,
   "id": "2cd07ffa",
   "metadata": {},
   "outputs": [],
   "source": [
    "import pandas as pd\n",
    "import seaborn as sns\n",
    "import matplotlib.pyplot as plt\n",
    "import numpy as np\n",
    "from sklearn.preprocessing import LabelEncoder\n",
    "from sklearn.linear_model import LinearRegression\n",
    "from sklearn.model_selection import train_test_split\n",
    "from sklearn.metrics import r2_score\n",
    "import pickle\n",
    "\n",
    "\n",
    "import warnings\n",
    "warnings.filterwarnings('ignore')"
   ]
  },
  {
   "cell_type": "code",
   "execution_count": 2,
   "id": "c0b857e6",
   "metadata": {},
   "outputs": [
    {
     "data": {
      "text/html": [
       "<div>\n",
       "<style scoped>\n",
       "    .dataframe tbody tr th:only-of-type {\n",
       "        vertical-align: middle;\n",
       "    }\n",
       "\n",
       "    .dataframe tbody tr th {\n",
       "        vertical-align: top;\n",
       "    }\n",
       "\n",
       "    .dataframe thead th {\n",
       "        text-align: right;\n",
       "    }\n",
       "</style>\n",
       "<table border=\"1\" class=\"dataframe\">\n",
       "  <thead>\n",
       "    <tr style=\"text-align: right;\">\n",
       "      <th></th>\n",
       "      <th>pintu</th>\n",
       "      <th>bulan</th>\n",
       "      <th>jumlah</th>\n",
       "    </tr>\n",
       "  </thead>\n",
       "  <tbody>\n",
       "    <tr>\n",
       "      <th>0</th>\n",
       "      <td>Bandara Ngurah Rai</td>\n",
       "      <td>Januari</td>\n",
       "      <td>173867</td>\n",
       "    </tr>\n",
       "    <tr>\n",
       "      <th>1</th>\n",
       "      <td>Bandara Ngurah Rai</td>\n",
       "      <td>Februari</td>\n",
       "      <td>146115</td>\n",
       "    </tr>\n",
       "    <tr>\n",
       "      <th>2</th>\n",
       "      <td>Bandara Ngurah Rai</td>\n",
       "      <td>Maret</td>\n",
       "      <td>167954</td>\n",
       "    </tr>\n",
       "    <tr>\n",
       "      <th>3</th>\n",
       "      <td>Bandara Ngurah Rai</td>\n",
       "      <td>April</td>\n",
       "      <td>188189</td>\n",
       "    </tr>\n",
       "    <tr>\n",
       "      <th>4</th>\n",
       "      <td>Bandara Ngurah Rai</td>\n",
       "      <td>Mei</td>\n",
       "      <td>190638</td>\n",
       "    </tr>\n",
       "  </tbody>\n",
       "</table>\n",
       "</div>"
      ],
      "text/plain": [
       "                pintu     bulan  jumlah\n",
       "0  Bandara Ngurah Rai   Januari  173867\n",
       "1  Bandara Ngurah Rai  Februari  146115\n",
       "2  Bandara Ngurah Rai     Maret  167954\n",
       "3  Bandara Ngurah Rai     April  188189\n",
       "4  Bandara Ngurah Rai       Mei  190638"
      ]
     },
     "execution_count": 2,
     "metadata": {},
     "output_type": "execute_result"
    }
   ],
   "source": [
    "df = pd.read_csv('./datasets/wisatawan_bali.csv')\n",
    "\n",
    "df.head()"
   ]
  },
  {
   "cell_type": "markdown",
   "id": "113b3c84",
   "metadata": {},
   "source": [
    "## Prepocessing"
   ]
  },
  {
   "cell_type": "code",
   "execution_count": 3,
   "id": "c00fe651",
   "metadata": {},
   "outputs": [
    {
     "name": "stdout",
     "output_type": "stream",
     "text": [
      "<class 'pandas.core.frame.DataFrame'>\n",
      "RangeIndex: 264 entries, 0 to 263\n",
      "Data columns (total 3 columns):\n",
      " #   Column  Non-Null Count  Dtype \n",
      "---  ------  --------------  ----- \n",
      " 0   pintu   264 non-null    object\n",
      " 1   bulan   264 non-null    object\n",
      " 2   jumlah  264 non-null    int64 \n",
      "dtypes: int64(1), object(2)\n",
      "memory usage: 6.3+ KB\n"
     ]
    }
   ],
   "source": [
    "df.info()"
   ]
  },
  {
   "cell_type": "code",
   "execution_count": 4,
   "id": "db2dbd15",
   "metadata": {},
   "outputs": [
    {
     "data": {
      "text/plain": [
       "pintu     0\n",
       "bulan     0\n",
       "jumlah    0\n",
       "dtype: int64"
      ]
     },
     "execution_count": 4,
     "metadata": {},
     "output_type": "execute_result"
    }
   ],
   "source": [
    "df.isna().sum()"
   ]
  },
  {
   "cell_type": "code",
   "execution_count": 5,
   "id": "a53311f9",
   "metadata": {},
   "outputs": [
    {
     "data": {
      "text/html": [
       "<div>\n",
       "<style scoped>\n",
       "    .dataframe tbody tr th:only-of-type {\n",
       "        vertical-align: middle;\n",
       "    }\n",
       "\n",
       "    .dataframe tbody tr th {\n",
       "        vertical-align: top;\n",
       "    }\n",
       "\n",
       "    .dataframe thead th {\n",
       "        text-align: right;\n",
       "    }\n",
       "</style>\n",
       "<table border=\"1\" class=\"dataframe\">\n",
       "  <thead>\n",
       "    <tr style=\"text-align: right;\">\n",
       "      <th></th>\n",
       "      <th>jumlah</th>\n",
       "    </tr>\n",
       "  </thead>\n",
       "  <tbody>\n",
       "    <tr>\n",
       "      <th>count</th>\n",
       "      <td>264.000000</td>\n",
       "    </tr>\n",
       "    <tr>\n",
       "      <th>mean</th>\n",
       "      <td>169529.299242</td>\n",
       "    </tr>\n",
       "    <tr>\n",
       "      <th>std</th>\n",
       "      <td>187778.560920</td>\n",
       "    </tr>\n",
       "    <tr>\n",
       "      <th>min</th>\n",
       "      <td>13.000000</td>\n",
       "    </tr>\n",
       "    <tr>\n",
       "      <th>25%</th>\n",
       "      <td>2744.250000</td>\n",
       "    </tr>\n",
       "    <tr>\n",
       "      <th>50%</th>\n",
       "      <td>81598.500000</td>\n",
       "    </tr>\n",
       "    <tr>\n",
       "      <th>75%</th>\n",
       "      <td>295300.250000</td>\n",
       "    </tr>\n",
       "    <tr>\n",
       "      <th>max</th>\n",
       "      <td>624337.000000</td>\n",
       "    </tr>\n",
       "  </tbody>\n",
       "</table>\n",
       "</div>"
      ],
      "text/plain": [
       "              jumlah\n",
       "count     264.000000\n",
       "mean   169529.299242\n",
       "std    187778.560920\n",
       "min        13.000000\n",
       "25%      2744.250000\n",
       "50%     81598.500000\n",
       "75%    295300.250000\n",
       "max    624337.000000"
      ]
     },
     "execution_count": 5,
     "metadata": {},
     "output_type": "execute_result"
    }
   ],
   "source": [
    "df.describe()"
   ]
  },
  {
   "cell_type": "markdown",
   "id": "ce528ac2",
   "metadata": {},
   "source": [
    "### Encoding object value"
   ]
  },
  {
   "cell_type": "code",
   "execution_count": 6,
   "id": "f69dfda8",
   "metadata": {},
   "outputs": [],
   "source": [
    "label_encoder = LabelEncoder()\n",
    "\n",
    "df['bulan'] = label_encoder.fit_transform(df['bulan'])\n",
    "df['pintu'] = label_encoder.fit_transform(df['pintu'])\n",
    "\n",
    "df.to_csv('./datasets/wisatawan_bali_encoded.csv')"
   ]
  },
  {
   "cell_type": "code",
   "execution_count": 7,
   "id": "cd62fb07",
   "metadata": {},
   "outputs": [
    {
     "data": {
      "text/html": [
       "<div>\n",
       "<style scoped>\n",
       "    .dataframe tbody tr th:only-of-type {\n",
       "        vertical-align: middle;\n",
       "    }\n",
       "\n",
       "    .dataframe tbody tr th {\n",
       "        vertical-align: top;\n",
       "    }\n",
       "\n",
       "    .dataframe thead th {\n",
       "        text-align: right;\n",
       "    }\n",
       "</style>\n",
       "<table border=\"1\" class=\"dataframe\">\n",
       "  <thead>\n",
       "    <tr style=\"text-align: right;\">\n",
       "      <th></th>\n",
       "      <th>pintu</th>\n",
       "      <th>bulan</th>\n",
       "      <th>jumlah</th>\n",
       "    </tr>\n",
       "  </thead>\n",
       "  <tbody>\n",
       "    <tr>\n",
       "      <th>0</th>\n",
       "      <td>0</td>\n",
       "      <td>4</td>\n",
       "      <td>173867</td>\n",
       "    </tr>\n",
       "    <tr>\n",
       "      <th>1</th>\n",
       "      <td>0</td>\n",
       "      <td>3</td>\n",
       "      <td>146115</td>\n",
       "    </tr>\n",
       "    <tr>\n",
       "      <th>2</th>\n",
       "      <td>0</td>\n",
       "      <td>7</td>\n",
       "      <td>167954</td>\n",
       "    </tr>\n",
       "    <tr>\n",
       "      <th>3</th>\n",
       "      <td>0</td>\n",
       "      <td>1</td>\n",
       "      <td>188189</td>\n",
       "    </tr>\n",
       "    <tr>\n",
       "      <th>4</th>\n",
       "      <td>0</td>\n",
       "      <td>8</td>\n",
       "      <td>190638</td>\n",
       "    </tr>\n",
       "  </tbody>\n",
       "</table>\n",
       "</div>"
      ],
      "text/plain": [
       "   pintu  bulan  jumlah\n",
       "0      0      4  173867\n",
       "1      0      3  146115\n",
       "2      0      7  167954\n",
       "3      0      1  188189\n",
       "4      0      8  190638"
      ]
     },
     "execution_count": 7,
     "metadata": {},
     "output_type": "execute_result"
    }
   ],
   "source": [
    "df.head()"
   ]
  },
  {
   "cell_type": "code",
   "execution_count": 8,
   "id": "8d86f8ba",
   "metadata": {},
   "outputs": [
    {
     "name": "stdout",
     "output_type": "stream",
     "text": [
      "<class 'pandas.core.frame.DataFrame'>\n",
      "RangeIndex: 264 entries, 0 to 263\n",
      "Data columns (total 3 columns):\n",
      " #   Column  Non-Null Count  Dtype\n",
      "---  ------  --------------  -----\n",
      " 0   pintu   264 non-null    int64\n",
      " 1   bulan   264 non-null    int64\n",
      " 2   jumlah  264 non-null    int64\n",
      "dtypes: int64(3)\n",
      "memory usage: 6.3 KB\n"
     ]
    }
   ],
   "source": [
    "df.info()"
   ]
  },
  {
   "cell_type": "code",
   "execution_count": 9,
   "id": "2e576e67",
   "metadata": {},
   "outputs": [
    {
     "data": {
      "text/html": [
       "<div>\n",
       "<style scoped>\n",
       "    .dataframe tbody tr th:only-of-type {\n",
       "        vertical-align: middle;\n",
       "    }\n",
       "\n",
       "    .dataframe tbody tr th {\n",
       "        vertical-align: top;\n",
       "    }\n",
       "\n",
       "    .dataframe thead th {\n",
       "        text-align: right;\n",
       "    }\n",
       "</style>\n",
       "<table border=\"1\" class=\"dataframe\">\n",
       "  <thead>\n",
       "    <tr style=\"text-align: right;\">\n",
       "      <th></th>\n",
       "      <th>pintu</th>\n",
       "      <th>bulan</th>\n",
       "      <th>jumlah</th>\n",
       "    </tr>\n",
       "  </thead>\n",
       "  <tbody>\n",
       "    <tr>\n",
       "      <th>count</th>\n",
       "      <td>264.00000</td>\n",
       "      <td>264.000000</td>\n",
       "      <td>264.000000</td>\n",
       "    </tr>\n",
       "    <tr>\n",
       "      <th>mean</th>\n",
       "      <td>0.50000</td>\n",
       "      <td>5.500000</td>\n",
       "      <td>169529.299242</td>\n",
       "    </tr>\n",
       "    <tr>\n",
       "      <th>std</th>\n",
       "      <td>0.50095</td>\n",
       "      <td>3.458609</td>\n",
       "      <td>187778.560920</td>\n",
       "    </tr>\n",
       "    <tr>\n",
       "      <th>min</th>\n",
       "      <td>0.00000</td>\n",
       "      <td>0.000000</td>\n",
       "      <td>13.000000</td>\n",
       "    </tr>\n",
       "    <tr>\n",
       "      <th>25%</th>\n",
       "      <td>0.00000</td>\n",
       "      <td>2.750000</td>\n",
       "      <td>2744.250000</td>\n",
       "    </tr>\n",
       "    <tr>\n",
       "      <th>50%</th>\n",
       "      <td>0.50000</td>\n",
       "      <td>5.500000</td>\n",
       "      <td>81598.500000</td>\n",
       "    </tr>\n",
       "    <tr>\n",
       "      <th>75%</th>\n",
       "      <td>1.00000</td>\n",
       "      <td>8.250000</td>\n",
       "      <td>295300.250000</td>\n",
       "    </tr>\n",
       "    <tr>\n",
       "      <th>max</th>\n",
       "      <td>1.00000</td>\n",
       "      <td>11.000000</td>\n",
       "      <td>624337.000000</td>\n",
       "    </tr>\n",
       "  </tbody>\n",
       "</table>\n",
       "</div>"
      ],
      "text/plain": [
       "           pintu       bulan         jumlah\n",
       "count  264.00000  264.000000     264.000000\n",
       "mean     0.50000    5.500000  169529.299242\n",
       "std      0.50095    3.458609  187778.560920\n",
       "min      0.00000    0.000000      13.000000\n",
       "25%      0.00000    2.750000    2744.250000\n",
       "50%      0.50000    5.500000   81598.500000\n",
       "75%      1.00000    8.250000  295300.250000\n",
       "max      1.00000   11.000000  624337.000000"
      ]
     },
     "execution_count": 9,
     "metadata": {},
     "output_type": "execute_result"
    }
   ],
   "source": [
    "df.describe()"
   ]
  },
  {
   "cell_type": "markdown",
   "id": "5b372974",
   "metadata": {},
   "source": [
    "### Outlier"
   ]
  },
  {
   "cell_type": "code",
   "execution_count": 10,
   "id": "6d66258f",
   "metadata": {},
   "outputs": [],
   "source": [
    "def detect_outliers(df, x):\n",
    "    Q1 = df[x].describe()['25%']\n",
    "    Q3 = df[x].describe()['75%']\n",
    "    IQR = Q3-Q1\n",
    "    return df[(df[x] < Q1-1.5*IQR) | (df[x] > Q3+1.5*IQR)]"
   ]
  },
  {
   "cell_type": "code",
   "execution_count": 11,
   "id": "522a4d1a",
   "metadata": {},
   "outputs": [
    {
     "name": "stdout",
     "output_type": "stream",
     "text": [
      "Nilai IQR:  1.0\n"
     ]
    },
    {
     "data": {
      "image/png": "[encoded data removed]",
      "text/plain": [
       "<Figure size 720x360 with 1 Axes>"
      ]
     },
     "metadata": {
      "needs_background": "light"
     },
     "output_type": "display_data"
    }
   ],
   "source": [
    "plt.figure(figsize = (10, 5))\n",
    "plt.title(\"Deteksi outlier di kolom pintu\")\n",
    "sns.boxplot(df['pintu'])\n",
    "plt.annotate('Outlier', (df['pintu'].describe()['max'], 0.1), \n",
    "             xytext=(df['pintu'].describe()['max'], 0.3),\n",
    "             arrowprops=dict(facecolor='blue'), fontsize=13)\n",
    "\n",
    "IQR = df['pintu'].describe()['75%'] - df['pintu'].describe()['25%']\n",
    "print('Nilai IQR: ', IQR)"
   ]
  },
  {
   "cell_type": "code",
   "execution_count": 12,
   "id": "192acbd5",
   "metadata": {},
   "outputs": [
    {
     "data": {
      "text/html": [
       "<div>\n",
       "<style scoped>\n",
       "    .dataframe tbody tr th:only-of-type {\n",
       "        vertical-align: middle;\n",
       "    }\n",
       "\n",
       "    .dataframe tbody tr th {\n",
       "        vertical-align: top;\n",
       "    }\n",
       "\n",
       "    .dataframe thead th {\n",
       "        text-align: right;\n",
       "    }\n",
       "</style>\n",
       "<table border=\"1\" class=\"dataframe\">\n",
       "  <thead>\n",
       "    <tr style=\"text-align: right;\">\n",
       "      <th></th>\n",
       "      <th>pintu</th>\n",
       "      <th>bulan</th>\n",
       "      <th>jumlah</th>\n",
       "    </tr>\n",
       "  </thead>\n",
       "  <tbody>\n",
       "  </tbody>\n",
       "</table>\n",
       "</div>"
      ],
      "text/plain": [
       "Empty DataFrame\n",
       "Columns: [pintu, bulan, jumlah]\n",
       "Index: []"
      ]
     },
     "execution_count": 12,
     "metadata": {},
     "output_type": "execute_result"
    }
   ],
   "source": [
    "detect_outliers(df, 'pintu')"
   ]
  },
  {
   "cell_type": "code",
   "execution_count": 13,
   "id": "fc472a71",
   "metadata": {},
   "outputs": [
    {
     "name": "stdout",
     "output_type": "stream",
     "text": [
      "Nilai IQR:  8.25\n"
     ]
    },
    {
     "data": {
      "image/png": "[encoded data removed]",
      "text/plain": [
       "<Figure size 720x360 with 1 Axes>"
      ]
     },
     "metadata": {
      "needs_background": "light"
     },
     "output_type": "display_data"
    }
   ],
   "source": [
    "plt.figure(figsize = (10, 5))\n",
    "plt.title(\"Deteksi outlier di kolom bulan\")\n",
    "sns.boxplot(df['bulan'])\n",
    "plt.annotate('Outlier', (df['bulan'].describe()['max'], 0.1), \n",
    "             xytext=(df['bulan'].describe()['max'], 0.3),\n",
    "             arrowprops=dict(facecolor='blue'), fontsize=13)\n",
    "\n",
    "IQR = df['bulan'].describe()['75%'] - df['pintu'].describe()['25%']\n",
    "print('Nilai IQR: ', IQR)"
   ]
  },
  {
   "cell_type": "code",
   "execution_count": 14,
   "id": "6580573a",
   "metadata": {},
   "outputs": [
    {
     "data": {
      "text/html": [
       "<div>\n",
       "<style scoped>\n",
       "    .dataframe tbody tr th:only-of-type {\n",
       "        vertical-align: middle;\n",
       "    }\n",
       "\n",
       "    .dataframe tbody tr th {\n",
       "        vertical-align: top;\n",
       "    }\n",
       "\n",
       "    .dataframe thead th {\n",
       "        text-align: right;\n",
       "    }\n",
       "</style>\n",
       "<table border=\"1\" class=\"dataframe\">\n",
       "  <thead>\n",
       "    <tr style=\"text-align: right;\">\n",
       "      <th></th>\n",
       "      <th>pintu</th>\n",
       "      <th>bulan</th>\n",
       "      <th>jumlah</th>\n",
       "    </tr>\n",
       "  </thead>\n",
       "  <tbody>\n",
       "  </tbody>\n",
       "</table>\n",
       "</div>"
      ],
      "text/plain": [
       "Empty DataFrame\n",
       "Columns: [pintu, bulan, jumlah]\n",
       "Index: []"
      ]
     },
     "execution_count": 14,
     "metadata": {},
     "output_type": "execute_result"
    }
   ],
   "source": [
    "detect_outliers(df, 'bulan')"
   ]
  },
  {
   "cell_type": "code",
   "execution_count": 15,
   "id": "a4575c7b",
   "metadata": {},
   "outputs": [
    {
     "name": "stdout",
     "output_type": "stream",
     "text": [
      "Nilai IQR:  292556.0\n"
     ]
    },
    {
     "data": {
      "image/png": "[encoded data removed]",
      "text/plain": [
       "<Figure size 720x360 with 1 Axes>"
      ]
     },
     "metadata": {
      "needs_background": "light"
     },
     "output_type": "display_data"
    }
   ],
   "source": [
    "plt.figure(figsize = (10, 5))\n",
    "plt.title(\"Deteksi outlier di kolom jumlah\")\n",
    "sns.boxplot(df['jumlah'])\n",
    "plt.annotate('Outlier', (df['jumlah'].describe()['max'], 0.1), \n",
    "             xytext=(df['jumlah'].describe()['max'], 0.3),\n",
    "             arrowprops=dict(facecolor='blue'), fontsize=13)\n",
    "\n",
    "IQR = df['jumlah'].describe()['75%'] - df['jumlah'].describe()['25%']\n",
    "print('Nilai IQR: ', IQR)"
   ]
  },
  {
   "cell_type": "code",
   "execution_count": 16,
   "id": "cf8c8d19",
   "metadata": {},
   "outputs": [
    {
     "data": {
      "text/html": [
       "<div>\n",
       "<style scoped>\n",
       "    .dataframe tbody tr th:only-of-type {\n",
       "        vertical-align: middle;\n",
       "    }\n",
       "\n",
       "    .dataframe tbody tr th {\n",
       "        vertical-align: top;\n",
       "    }\n",
       "\n",
       "    .dataframe thead th {\n",
       "        text-align: right;\n",
       "    }\n",
       "</style>\n",
       "<table border=\"1\" class=\"dataframe\">\n",
       "  <thead>\n",
       "    <tr style=\"text-align: right;\">\n",
       "      <th></th>\n",
       "      <th>pintu</th>\n",
       "      <th>bulan</th>\n",
       "      <th>jumlah</th>\n",
       "    </tr>\n",
       "  </thead>\n",
       "  <tbody>\n",
       "  </tbody>\n",
       "</table>\n",
       "</div>"
      ],
      "text/plain": [
       "Empty DataFrame\n",
       "Columns: [pintu, bulan, jumlah]\n",
       "Index: []"
      ]
     },
     "execution_count": 16,
     "metadata": {},
     "output_type": "execute_result"
    }
   ],
   "source": [
    "detect_outliers(df, 'jumlah')"
   ]
  },
  {
   "cell_type": "markdown",
   "id": "eeb26dbf",
   "metadata": {},
   "source": [
    "## Constructing Model"
   ]
  },
  {
   "cell_type": "code",
   "execution_count": 17,
   "id": "53c480fb",
   "metadata": {},
   "outputs": [],
   "source": [
    "X = df.drop('jumlah', axis=1).values\n",
    "y = df[['jumlah']].values\n",
    "\n",
    "X_train, X_test, y_train, y_test = train_test_split(X, y, test_size=0.3, random_state=42)"
   ]
  },
  {
   "cell_type": "code",
   "execution_count": 18,
   "id": "2adb6872",
   "metadata": {},
   "outputs": [
    {
     "name": "stdout",
     "output_type": "stream",
     "text": [
      "Coefficients:  [[-324458.01491104    2021.91930495]]\n",
      "Intercept:  [316674.17051825]\n"
     ]
    }
   ],
   "source": [
    "regression = LinearRegression()\n",
    "\n",
    "regression.fit(X_train, y_train)\n",
    "\n",
    "print('Coefficients: ', regression.coef_)\n",
    "print('Intercept: ', regression.intercept_)"
   ]
  },
  {
   "cell_type": "code",
   "execution_count": 19,
   "id": "f5450c97",
   "metadata": {},
   "outputs": [
    {
     "data": {
      "text/plain": [
       "[<matplotlib.lines.Line2D at 0x7f7fc800b790>,\n",
       " <matplotlib.lines.Line2D at 0x7f7fc800b7c0>]"
      ]
     },
     "execution_count": 19,
     "metadata": {},
     "output_type": "execute_result"
    },
    {
     "data": {
      "image/png": "[encoded data removed]",
      "text/plain": [
       "<Figure size 432x288 with 1 Axes>"
      ]
     },
     "metadata": {
      "needs_background": "light"
     },
     "output_type": "display_data"
    }
   ],
   "source": [
    "plt.scatter(X[:, 0], y, color='blue')\n",
    "plt.plot(X_train, regression.coef_[0][0] * X_train + regression.intercept_[0], 'r')"
   ]
  },
  {
   "cell_type": "code",
   "execution_count": 20,
   "id": "9406136a",
   "metadata": {},
   "outputs": [
    {
     "name": "stdout",
     "output_type": "stream",
     "text": [
      "MEAN absolute error: 55801.20\n",
      "Residual sum of square (MSE) : 8449040456.39\n",
      "R2 score : 0.68\n",
      "Regression score : 0.78\n"
     ]
    }
   ],
   "source": [
    "y_pred = regression.predict(X_test)\n",
    "\n",
    "print('MEAN absolute error: %.2f' %np.mean(np.absolute(y_pred - y_test)))\n",
    "print('Residual sum of square (MSE) : %.2f' %np.mean((y_pred - y_test)**2))\n",
    "print('R2 score : %.2f' %r2_score(y_pred, y_test))\n",
    "print('Regression score : %.2f' %regression.score(X_test, y_test))"
   ]
  },
  {
   "cell_type": "code",
   "execution_count": 21,
   "id": "382cb8de",
   "metadata": {},
   "outputs": [],
   "source": [
    "file_name = './models/model.regr'\n",
    "pickle.dump(regression, open(file_name, 'wb'))"
   ]
  },
  {
   "cell_type": "code",
   "execution_count": 22,
   "id": "f07c28ef",
   "metadata": {},
   "outputs": [],
   "source": [
    "model = pickle.load(open(file_name, 'rb'))"
   ]
  },
  {
   "cell_type": "markdown",
   "id": "6354953d",
   "metadata": {},
   "source": [
    "## Tes Model"
   ]
  },
  {
   "cell_type": "code",
   "execution_count": 23,
   "id": "8184a391",
   "metadata": {},
   "outputs": [],
   "source": [
    "from ipywidgets import widgets\n",
    "from IPython.display import display"
   ]
  },
  {
   "cell_type": "code",
   "execution_count": 24,
   "id": "bb96970e",
   "metadata": {},
   "outputs": [
    {
     "data": {
      "application/vnd.jupyter.widget-view+json": {
       "model_id": "b9a49cb336fb438493f33bd16c502a4e",
       "version_major": 2,
       "version_minor": 0
      },
      "text/plain": [
       "Dropdown(description='Pintu:', options=(('Ngurah Rai', 0), ('Benoa', 1)), value=0)"
      ]
     },
     "metadata": {},
     "output_type": "display_data"
    },
    {
     "data": {
      "application/vnd.jupyter.widget-view+json": {
       "model_id": "aeac6b3ee17641e4a7c46021312c6fe5",
       "version_major": 2,
       "version_minor": 0
      },
      "text/plain": [
       "Dropdown(description='Bulan:', options=(('Januari', 4), ('Februari', 3), ('Maret', 7), ('April', 1), ('Mei', 8…"
      ]
     },
     "metadata": {},
     "output_type": "display_data"
    },
    {
     "name": "stdout",
     "output_type": "stream",
     "text": [
      "\n"
     ]
    },
    {
     "data": {
      "application/vnd.jupyter.widget-view+json": {
       "model_id": "1134c2efba1b4a1e82720d82864daa60",
       "version_major": 2,
       "version_minor": 0
      },
      "text/plain": [
       "Button(description='Submit', style=ButtonStyle())"
      ]
     },
     "metadata": {},
     "output_type": "display_data"
    },
    {
     "name": "stdout",
     "output_type": "stream",
     "text": [
      "Prediksi wisatawan: 324762 orang\n"
     ]
    }
   ],
   "source": [
    "submit_button = widgets.Button(description='Submit')\n",
    "select_bulan = widgets.Dropdown(\n",
    "    options=[('Januari', 4), \n",
    "             ('Februari', 3), \n",
    "             ('Maret', 7),\n",
    "            ('April', 1), \n",
    "             ('Mei', 8), \n",
    "             ('Juni', 6),\n",
    "            ('Juli', 5), \n",
    "             ('Agustus', 0), \n",
    "             ('Spetember', 11),\n",
    "            ('Oktober', 10), \n",
    "             ('Nopember', 9), \n",
    "             ('Desember', 2)],\n",
    "    value=4,\n",
    "    description='Bulan:',)\n",
    "\n",
    "select_pintu = widgets.Dropdown(\n",
    "    options=[('Ngurah Rai', 0), \n",
    "             ('Benoa', 1)],\n",
    "    value=0,\n",
    "    description='Pintu:',)\n",
    "\n",
    "def pred(b):\n",
    "    pintu = int(select_pintu.value)\n",
    "    bulan = int(select_bulan.value)\n",
    "    res = model.predict([[pintu, bulan]])\n",
    "    print('Prediksi wisatawan: %.0f orang' %res)\n",
    "\n",
    "        \n",
    "display(select_pintu)\n",
    "display(select_bulan)\n",
    "print()\n",
    "display(submit_button)\n",
    "\n",
    "submit_button.on_click(pred)"
   ]
  },
  {
   "cell_type": "code",
   "execution_count": null,
   "id": "d6bdebcc",
   "metadata": {},
   "outputs": [],
   "source": []
  }
 ],
 "metadata": {
  "kernelspec": {
   "display_name": "Python 3 (ipykernel)",
   "language": "python",
   "name": "python3"
  },
  "language_info": {
   "codemirror_mode": {
    "name": "ipython",
    "version": 3
   },
   "file_extension": ".py",
   "mimetype": "text/x-python",
   "name": "python",
   "nbconvert_exporter": "python",
   "pygments_lexer": "ipython3",
   "version": "3.9.7"
  }
 },
 "nbformat": 4,
 "nbformat_minor": 5
}
